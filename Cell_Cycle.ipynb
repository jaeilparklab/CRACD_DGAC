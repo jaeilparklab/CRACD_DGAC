{
 "cells": [
  {
   "cell_type": "code",
   "execution_count": null,
   "id": "8b9f4b18-988d-427f-a507-c33c2a2031fa",
   "metadata": {},
   "outputs": [],
   "source": [
    "import os, glob, re, pickle\n",
    "from functools import partial\n",
    "from collections import OrderedDict\n",
    "import operator as op\n",
    "from cytoolz import compose\n",
    "\n",
    "import pandas as pd\n",
    "import seaborn as sns\n",
    "import numpy as np\n",
    "import scanpy as sc\n",
    "import scanpy.external as sce\n",
    "import anndata as ad\n",
    "import matplotlib as mpl\n",
    "import matplotlib.pyplot as plt\n",
    "sc.settings.verbosity = 3\n",
    "sc.logging.print_header()\n",
    "sc.set_figure_params(dpi=100, dpi_save=600)\n",
    "\n",
    "from pyscenic.export import export2loom, add_scenic_metadata\n",
    "from pyscenic.utils import load_motifs\n",
    "from pyscenic.transform import df2regulons\n",
    "from pyscenic.aucell import aucell\n",
    "from pyscenic.binarization import binarize\n",
    "from pyscenic.rss import regulon_specificity_scores\n",
    "from pyscenic.plotting import plot_binarization, plot_rss\n",
    "\n",
    "from IPython.display import HTML, display\n",
    "\n",
    "import base64\n",
    "import glob\n",
    "import json\n",
    "import loompy as lp\n",
    "import os\n",
    "import scipy\n",
    "import zlib\n",
    "\n",
    "from matplotlib import rcParams\n",
    "from adjustText import adjust_text"
   ]
  },
  {
   "cell_type": "code",
   "execution_count": null,
   "id": "7a66c640-c760-470b-88a6-15307bd55117",
   "metadata": {},
   "outputs": [],
   "source": [
    "# Cell Cycle\n",
    "import numpy as np\n",
    "import pandas as pd\n",
    "import anndata as ad\n",
    "import os.path\n",
    "import scanpy as sc\n",
    "from matplotlib import pyplot as plt\n",
    "\n",
    "h5ad_file = \"path.to.h5ad\"\n",
    "out_dir = os.path.dirname(h5ad_file) + \"/CellPhase\"\n",
    "os.makedirs(out_dir, exist_ok = True)\n",
    "edata = sc.read_h5ad(h5ad_file)\n",
    "\n",
    "g2m_genes = [x.strip() for x in open('/mnt/e/JH/Resource/CellCycle/g2m_genes_mouse.txt')]\n",
    "s_genes = [x.strip() for x in open('/mnt/e/JH/Resource/CellCycle/s_genes_mouse.txt')]\n",
    "\n",
    "sc.tl.score_genes_cell_cycle(edata, s_genes=s_genes, g2m_genes=g2m_genes)\n",
    "sc.pl.umap(edata, color=['phase'], legend_loc='right margin', frameon=False, title='Phase', use_raw=False)\n",
    "plt.axis('square')\n",
    "plt.savefig(out_dir + \"/UMAP.Phase.pdf\", format=\"pdf\", bbox_inches=\"tight\")\n",
    "plt.savefig(out_dir + \"/UMAP.Phase.png\", format=\"png\", bbox_inches=\"tight\")\n",
    "\n",
    "color_list = ['#f61067', '#5e239d', '#00f0b5']\n",
    "new_df = pd.crosstab(edata.obs['phase'],edata.obs['leiden'], normalize='columns')\n",
    "bar_plot = new_df.T.plot(kind='bar', stacked=True, figsize=(5, 4))\n",
    "bar_plot.legend(title='Type', bbox_to_anchor=(1.3, 1.02),loc='upper right')\n",
    "plt.savefig(out_dir + \"/Barplot.Phase.pdf\", format=\"pdf\", bbox_inches=\"tight\")\n",
    "plt.savefig(out_dir + \"/Barplot.Phase.png\", format=\"png\", bbox_inches=\"tight\")"
   ]
  }
 ],
 "metadata": {
  "kernelspec": {
   "display_name": "Python 3 (ipykernel)",
   "language": "python",
   "name": "python3"
  },
  "language_info": {
   "codemirror_mode": {
    "name": "ipython",
    "version": 3
   },
   "file_extension": ".py",
   "mimetype": "text/x-python",
   "name": "python",
   "nbconvert_exporter": "python",
   "pygments_lexer": "ipython3",
   "version": "3.12.1"
  }
 },
 "nbformat": 4,
 "nbformat_minor": 5
}
